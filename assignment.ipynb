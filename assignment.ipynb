{
 "cells": [
  {
   "cell_type": "markdown",
   "metadata": {},
   "source": [
    "### Variables:\n",
    "status --> whether ticket is sold/unsold \\\n",
    "ownership --> the owner of the specific ticket, useful to verify ownership later \\\n",
    "\\\n",
    "ticket_id --> a unique ID for each generated ticket which is used to check for duplicate tickets \n",
    "\n",
    "\n"
   ]
  },
  {
   "cell_type": "markdown",
   "metadata": {},
   "source": [
    "### mineBlock() Function - use of Nonce in a block\n",
    "The mineBlock() function implements a proof of work algorithm. When we are creating a block, we initialize a variable in the Block class called 'nonce' - number only used once. \n",
    "\n",
    "This nonce is a part of the class variables, hence it is included in the block string. So, the hash generated is dependent on the 'nonce'. In the algorithm, we have some preset conditions set by the blockchain, which act as a **consensus mechanism**, which is the hash of the block starting with '0000' in our case. "
   ]
  },
  {
   "cell_type": "markdown",
   "metadata": {},
   "source": [
    "### Importing Libraries:\n",
    "hashlib: for generating cryptographic hash for blocks\\\n",
    "datetime: for timestamping blocks\\\n",
    "time: for calculating time difference between block creation\\\n",
    "secrets, string: for generating secret keys\\\n",
    "hmac: for implementing HMAC verification\\\n",
    "json: for creating strings in a specific pattern"
   ]
  },
  {
   "cell_type": "code",
   "execution_count": 4,
   "metadata": {},
   "outputs": [
    {
     "name": "stdout",
     "output_type": "stream",
     "text": [
      "Number of Blocks created 13\n",
      "{'index': 0, 'timestamp': datetime.datetime(2024, 4, 21, 4, 20, 0, 500921), 'transactions': [{'data': {'ID': '0', 'status': 'N/A', 'ownership': 'N/A'}, 'type': 'genesis_creation'}], 'previous_hash': '0', 'nonce': 0, 'transactions_data': '0N/AN/A', 'hash': '4e30b1a2723285f3dd5eeb735557a212c3ecc7d5a1df182a56cb6a8e73845e63'}\n",
      "{'index': 1, 'timestamp': datetime.datetime(2024, 4, 21, 4, 20, 21, 553456), 'transactions': [{'data': {'date': '12-05-2024', 'time': '6:00', 'seat_number': '1', 'status': 'unsold', 'ownership': 'organiser', 'ID': '12-05-20246:001'}, 'type': 'create_ticket', 'hmac': '6f030895200d5d206e1a130f8edd7d6cab1e19ef1ba0239232358b3dbead8fef', 'buy/sell': 'None'}, {'data': {'date': '12-05-2024', 'time': '6:00', 'seat_number': '2', 'status': 'unsold', 'ownership': 'organiser', 'ID': '12-05-20246:002'}, 'type': 'create_ticket', 'hmac': '7a294a7b10d307ede516f5d121be82b8f611f483ebc620c213156617dbae6f83', 'buy/sell': 'None'}, {'data': {'date': '12-05-2024', 'time': '6:00', 'seat_number': '3', 'status': 'unsold', 'ownership': 'organiser', 'ID': '12-05-20246:003'}, 'type': 'create_ticket', 'hmac': '9eba7be41cfc6717f879298061a7692deec2efa1d88e8c85eb6c7bd4468f4d88', 'buy/sell': 'None'}, {'data': {'date': '12-05-2024', 'time': '6:00', 'seat_number': '4', 'status': 'unsold', 'ownership': 'organiser', 'ID': '12-05-20246:004'}, 'type': 'create_ticket', 'hmac': '09387dee494580eefc7cedc51ccf970a7df5d07a823c66dbe360b3e646230ffb', 'buy/sell': 'None'}, {'data': {'date': '12-05-2024', 'time': '6:00', 'seat_number': '5', 'status': 'unsold', 'ownership': 'organiser', 'ID': '12-05-20246:005'}, 'type': 'create_ticket', 'hmac': '2e26476bf2b1768f9a7b03a49b5c14c825fc110568627c954b007cad00dc0df9', 'buy/sell': 'None'}], 'previous_hash': '4e30b1a2723285f3dd5eeb735557a212c3ecc7d5a1df182a56cb6a8e73845e63', 'nonce': 90, 'transactions_data': '12-05-20246:001unsoldorganiser12-05-20246:002unsoldorganiser12-05-20246:003unsoldorganiser12-05-20246:004unsoldorganiser12-05-20246:005unsoldorganiser', 'hash': '0086df2e978a0813042bca136c931c599b74c43ca0b16baff877d36595803076'}\n",
      "{'index': 2, 'timestamp': datetime.datetime(2024, 4, 21, 4, 20, 21, 558874), 'transactions': [{'data': {'date': '12-05-2024', 'time': '6:00', 'seat_number': '6', 'status': 'unsold', 'ownership': 'organiser', 'ID': '12-05-20246:006'}, 'type': 'create_ticket', 'hmac': '5f9be0eaf25850130429a7aa006d1272cc2e1a9513adfc0e696822e62b842f00', 'buy/sell': 'None'}, {'data': {'date': '12-05-2024', 'time': '6:00', 'seat_number': '7', 'status': 'unsold', 'ownership': 'organiser', 'ID': '12-05-20246:007'}, 'type': 'create_ticket', 'hmac': '549d41ce34e7125430d146a74b5bec3d9542eccadb4bcb6d516c758f76e3ffcb', 'buy/sell': 'None'}, {'data': {'date': '12-05-2024', 'time': '6:00', 'seat_number': '8', 'status': 'unsold', 'ownership': 'organiser', 'ID': '12-05-20246:008'}, 'type': 'create_ticket', 'hmac': '63c2f1cf8efa7f9988612c1109cf7ba69bda0612dadef1a9ee24f88a4cd72126', 'buy/sell': 'None'}, {'data': {'date': '12-05-2024', 'time': '6:00', 'seat_number': '9', 'status': 'unsold', 'ownership': 'organiser', 'ID': '12-05-20246:009'}, 'type': 'create_ticket', 'hmac': 'f3d60179f539abfaa73c1fc4178817178b193822df4041745ea7f8caf3b168e2', 'buy/sell': 'None'}, {'data': {'date': '12-05-2024', 'time': '6:00', 'seat_number': '10', 'status': 'unsold', 'ownership': 'organiser', 'ID': '12-05-20246:0010'}, 'type': 'create_ticket', 'hmac': 'b8360a60f61f9cc91e1c75a51fd36f5bf6362df5e89c9a349edf61633169199e', 'buy/sell': 'None'}], 'previous_hash': '0086df2e978a0813042bca136c931c599b74c43ca0b16baff877d36595803076', 'nonce': 24, 'transactions_data': '12-05-20246:006unsoldorganiser12-05-20246:007unsoldorganiser12-05-20246:008unsoldorganiser12-05-20246:009unsoldorganiser12-05-20246:0010unsoldorganiser', 'hash': '00b98ad49ddffdbbec39fd2d0797ce17d66e11f420454a541ede6ddd7dcfd420'}\n",
      "{'index': 3, 'timestamp': datetime.datetime(2024, 4, 21, 4, 20, 21, 560308), 'transactions': [{'data': {'date': '12-05-2024', 'time': '6:00', 'seat_number': '11', 'status': 'unsold', 'ownership': 'organiser', 'ID': '12-05-20246:0011'}, 'type': 'create_ticket', 'hmac': '12cf1b1ad0d7432607d7f7d2a39cc3a805240f9dfee0abedd21c98a3dd883bd5', 'buy/sell': 'None'}, {'data': {'date': '12-05-2024', 'time': '6:00', 'seat_number': '12', 'status': 'unsold', 'ownership': 'organiser', 'ID': '12-05-20246:0012'}, 'type': 'create_ticket', 'hmac': 'df01de10d05792684a8ab3dc318d2068df19891a9fb24c42339053335129da54', 'buy/sell': 'None'}, {'data': {'date': '12-05-2024', 'time': '6:00', 'seat_number': '13', 'status': 'unsold', 'ownership': 'organiser', 'ID': '12-05-20246:0013'}, 'type': 'create_ticket', 'hmac': 'd811638bfd9231af91fe8ded5ed0458803ac850e8297196e51d45700e3f06b56', 'buy/sell': 'None'}, {'data': {'date': '12-05-2024', 'time': '6:00', 'seat_number': '14', 'status': 'unsold', 'ownership': 'organiser', 'ID': '12-05-20246:0014'}, 'type': 'create_ticket', 'hmac': '7133f8050c5ddb3ec1c653a019493791e8291d285e81311043fe2a545b39dee8', 'buy/sell': 'None'}, {'data': {'date': '12-05-2024', 'time': '6:00', 'seat_number': '15', 'status': 'unsold', 'ownership': 'organiser', 'ID': '12-05-20246:0015'}, 'type': 'create_ticket', 'hmac': 'd2a8d5d17ca227312a854d8754e219e8e6416d13d09df19cbef686d233ab0e67', 'buy/sell': 'None'}], 'previous_hash': '00b98ad49ddffdbbec39fd2d0797ce17d66e11f420454a541ede6ddd7dcfd420', 'nonce': 104, 'transactions_data': '12-05-20246:0011unsoldorganiser12-05-20246:0012unsoldorganiser12-05-20246:0013unsoldorganiser12-05-20246:0014unsoldorganiser12-05-20246:0015unsoldorganiser', 'hash': '00d06231b5c5af7cc407b87ac064ac4cab6f743795183901438cec006f27ea31'}\n",
      "{'index': 4, 'timestamp': datetime.datetime(2024, 4, 21, 4, 20, 21, 565337), 'transactions': [{'data': {'date': '12-05-2024', 'time': '6:00', 'seat_number': '16', 'status': 'unsold', 'ownership': 'organiser', 'ID': '12-05-20246:0016'}, 'type': 'create_ticket', 'hmac': 'c1c934896e2653f4576ace1fbb87049959b80fb3451f80f80506ae6978d871ce', 'buy/sell': 'None'}, {'data': {'date': '12-05-2024', 'time': '6:00', 'seat_number': '17', 'status': 'unsold', 'ownership': 'organiser', 'ID': '12-05-20246:0017'}, 'type': 'create_ticket', 'hmac': 'dc4d9744708530a2ae09e5eaf05b08b93208d48284c21db753ea5a7936758b5d', 'buy/sell': 'None'}, {'data': {'date': '12-05-2024', 'time': '6:00', 'seat_number': '18', 'status': 'unsold', 'ownership': 'organiser', 'ID': '12-05-20246:0018'}, 'type': 'create_ticket', 'hmac': '3c59db9455dab68842f16d36c871621acecd406454b0d52731ed98a543ce7525', 'buy/sell': 'None'}, {'data': {'date': '12-05-2024', 'time': '6:00', 'seat_number': '19', 'status': 'unsold', 'ownership': 'organiser', 'ID': '12-05-20246:0019'}, 'type': 'create_ticket', 'hmac': '453cbc8006b03a7eeef88d8c965746c236d6e1137a8566c34f2837202b94aea8', 'buy/sell': 'None'}, {'data': {'date': '12-05-2024', 'time': '6:00', 'seat_number': '20', 'status': 'unsold', 'ownership': 'organiser', 'ID': '12-05-20246:0020'}, 'type': 'create_ticket', 'hmac': 'ff2f0f4e9c27da9090628d01eb5410eb9d2e62ab7b52e58e556db9497c502c70', 'buy/sell': 'None'}], 'previous_hash': '00d06231b5c5af7cc407b87ac064ac4cab6f743795183901438cec006f27ea31', 'nonce': 822, 'transactions_data': '12-05-20246:0016unsoldorganiser12-05-20246:0017unsoldorganiser12-05-20246:0018unsoldorganiser12-05-20246:0019unsoldorganiser12-05-20246:0020unsoldorganiser', 'hash': '003fe32bdea971a5b1b33acca4a58892725d64f8dea57d3e437c9b825dbf6779'}\n",
      "{'index': 5, 'timestamp': datetime.datetime(2024, 4, 21, 4, 20, 21, 579818), 'transactions': [{'data': {'date': '12-05-2024', 'time': '6:00', 'seat_number': '21', 'status': 'unsold', 'ownership': 'organiser', 'ID': '12-05-20246:0021'}, 'type': 'create_ticket', 'hmac': '702ba124ddd4a66ebe6b4a9e4f7575d0750ba4fe7d1e01bbfd1c233c65c6436b', 'buy/sell': 'None'}, {'data': {'date': '12-05-2024', 'time': '6:00', 'seat_number': '22', 'status': 'unsold', 'ownership': 'organiser', 'ID': '12-05-20246:0022'}, 'type': 'create_ticket', 'hmac': '4d5267480a26a59b854d34780fb06eeeb5c7017a81fdec69e92c480cec0ee570', 'buy/sell': 'None'}, {'data': {'date': '12-05-2024', 'time': '6:00', 'seat_number': '23', 'status': 'unsold', 'ownership': 'organiser', 'ID': '12-05-20246:0023'}, 'type': 'create_ticket', 'hmac': '1d5dc62f20b6023e1429a2dc70d03a952fd1d4555a13a6f40f7213b7f771f4dc', 'buy/sell': 'None'}, {'data': {'date': '12-05-2024', 'time': '6:00', 'seat_number': '24', 'status': 'unsold', 'ownership': 'organiser', 'ID': '12-05-20246:0024'}, 'type': 'create_ticket', 'hmac': 'd82bb40efe73db7d32380ae78c23c45a46ce87b3e10905142a1a6d0665ada5c4', 'buy/sell': 'None'}, {'data': {'date': '12-05-2024', 'time': '6:00', 'seat_number': '25', 'status': 'unsold', 'ownership': 'organiser', 'ID': '12-05-20246:0025'}, 'type': 'create_ticket', 'hmac': '583cbdb86ba01a0ff5fdf40995d8a2ffe0b8b08100e1a795e71754ed4aff5d09', 'buy/sell': 'None'}], 'previous_hash': '003fe32bdea971a5b1b33acca4a58892725d64f8dea57d3e437c9b825dbf6779', 'nonce': 573, 'transactions_data': '12-05-20246:0021unsoldorganiser12-05-20246:0022unsoldorganiser12-05-20246:0023unsoldorganiser12-05-20246:0024unsoldorganiser12-05-20246:0025unsoldorganiser', 'hash': '00b5005368dc93cd90e46a8c2099dd073a30c2945fd708905d4c746a18669962'}\n",
      "{'index': 6, 'timestamp': datetime.datetime(2024, 4, 21, 4, 20, 21, 587958), 'transactions': [{'data': {'date': '12-05-2024', 'time': '6:00', 'seat_number': '26', 'status': 'unsold', 'ownership': 'organiser', 'ID': '12-05-20246:0026'}, 'type': 'create_ticket', 'hmac': '53645063da6b09831151dbce1ba2de4e9a98552c433d18321927bb447687f939', 'buy/sell': 'None'}, {'data': {'date': '12-05-2024', 'time': '6:00', 'seat_number': '27', 'status': 'unsold', 'ownership': 'organiser', 'ID': '12-05-20246:0027'}, 'type': 'create_ticket', 'hmac': '979e2fae984472a4db8047c43636e4741833169ddd5c2fe62781a0ef6e318f31', 'buy/sell': 'None'}, {'data': {'date': '12-05-2024', 'time': '6:00', 'seat_number': '28', 'status': 'unsold', 'ownership': 'organiser', 'ID': '12-05-20246:0028'}, 'type': 'create_ticket', 'hmac': 'f180ab1c5feed56bfc01bb32049f220f418013758ff176104eef660426277562', 'buy/sell': 'None'}, {'data': {'date': '12-05-2024', 'time': '6:00', 'seat_number': '29', 'status': 'unsold', 'ownership': 'organiser', 'ID': '12-05-20246:0029'}, 'type': 'create_ticket', 'hmac': '5f5347471edc43a5e1cecea9e68ea37189c17bacb7c5c5e4392ae88ff02af55c', 'buy/sell': 'None'}, {'data': {'date': '12-05-2024', 'time': '6:00', 'seat_number': '30', 'status': 'unsold', 'ownership': 'organiser', 'ID': '12-05-20246:0030'}, 'type': 'create_ticket', 'hmac': '3b1ada8d8c6a12d41ad30da5d17cd83542782166d4df068350b5a3772bfbce16', 'buy/sell': 'None'}], 'previous_hash': '00b5005368dc93cd90e46a8c2099dd073a30c2945fd708905d4c746a18669962', 'nonce': 344, 'transactions_data': '12-05-20246:0026unsoldorganiser12-05-20246:0027unsoldorganiser12-05-20246:0028unsoldorganiser12-05-20246:0029unsoldorganiser12-05-20246:0030unsoldorganiser', 'hash': '00181c963361d22ee90c3d6004b795d3b72e17494dfa16ed8d8ef2a0b265c39a'}\n",
      "{'index': 7, 'timestamp': datetime.datetime(2024, 4, 21, 4, 20, 39, 94535), 'transactions': [{'data': {'date': '15-06-2024', 'time': '19:00', 'seat_number': '1', 'status': 'unsold', 'ownership': 'organiser', 'ID': '15-06-202419:001'}, 'type': 'create_ticket', 'hmac': '19874e758e9797fe29b0b2f2ac4e54c996bf125e84abe5d78ee5fab0dcc375f3', 'buy/sell': 'None'}, {'data': {'date': '15-06-2024', 'time': '19:00', 'seat_number': '2', 'status': 'unsold', 'ownership': 'organiser', 'ID': '15-06-202419:002'}, 'type': 'create_ticket', 'hmac': 'fd388564cb9e5ee993024b34740a205000310680550d8ae1113b19cf66c493d2', 'buy/sell': 'None'}, {'data': {'date': '15-06-2024', 'time': '19:00', 'seat_number': '3', 'status': 'unsold', 'ownership': 'organiser', 'ID': '15-06-202419:003'}, 'type': 'create_ticket', 'hmac': '98d9dbfb568fd00cf6d784d741a1cc808b056d12a5998faa97ba5847daf3a879', 'buy/sell': 'None'}, {'data': {'date': '15-06-2024', 'time': '19:00', 'seat_number': '4', 'status': 'unsold', 'ownership': 'organiser', 'ID': '15-06-202419:004'}, 'type': 'create_ticket', 'hmac': '07d9b496586e038a9caf35096c0d6313ab92daf9b9ea3b11339a3b0c925ba8af', 'buy/sell': 'None'}, {'data': {'date': '15-06-2024', 'time': '19:00', 'seat_number': '5', 'status': 'unsold', 'ownership': 'organiser', 'ID': '15-06-202419:005'}, 'type': 'create_ticket', 'hmac': '7b877686167067b45d1ae568949c79f19ddf539bceb6a5d9fd5d20fdf78d413c', 'buy/sell': 'None'}], 'previous_hash': '00181c963361d22ee90c3d6004b795d3b72e17494dfa16ed8d8ef2a0b265c39a', 'nonce': 17, 'transactions_data': '15-06-202419:001unsoldorganiser15-06-202419:002unsoldorganiser15-06-202419:003unsoldorganiser15-06-202419:004unsoldorganiser15-06-202419:005unsoldorganiser', 'hash': '006fa8da765d465c2be6ae459480502309fc825d46acb72578d4a3053a943573'}\n",
      "{'index': 8, 'timestamp': datetime.datetime(2024, 4, 21, 4, 20, 39, 96555), 'transactions': [{'data': {'date': '15-06-2024', 'time': '19:00', 'seat_number': '6', 'status': 'unsold', 'ownership': 'organiser', 'ID': '15-06-202419:006'}, 'type': 'create_ticket', 'hmac': 'f267aa8b6c55e39a2248a6c9b3da8ecb399108a8d3d638dcde08041a09d3e7bf', 'buy/sell': 'None'}, {'data': {'date': '15-06-2024', 'time': '19:00', 'seat_number': '7', 'status': 'unsold', 'ownership': 'organiser', 'ID': '15-06-202419:007'}, 'type': 'create_ticket', 'hmac': '39036214ca73528cb73acfbe77a2a7ec92b54462430b2bab8ac03c6d2cb840b0', 'buy/sell': 'None'}, {'data': {'date': '15-06-2024', 'time': '19:00', 'seat_number': '8', 'status': 'unsold', 'ownership': 'organiser', 'ID': '15-06-202419:008'}, 'type': 'create_ticket', 'hmac': 'b001b68ef205f19f3a8ea26277126ba1943d82dc4a8bbc4b0af04231c9d5d8c8', 'buy/sell': 'None'}, {'data': {'date': '15-06-2024', 'time': '19:00', 'seat_number': '9', 'status': 'unsold', 'ownership': 'organiser', 'ID': '15-06-202419:009'}, 'type': 'create_ticket', 'hmac': '940c334537a4c3bd7a02833b7de1a98d96c2e79f8611bccc5f94b0ef3842b78b', 'buy/sell': 'None'}, {'data': {'date': '15-06-2024', 'time': '19:00', 'seat_number': '10', 'status': 'unsold', 'ownership': 'organiser', 'ID': '15-06-202419:0010'}, 'type': 'create_ticket', 'hmac': '703b2e38413575bf12cccb0b025181eaa38a22eeaff908849ba9b603290c9792', 'buy/sell': 'None'}], 'previous_hash': '006fa8da765d465c2be6ae459480502309fc825d46acb72578d4a3053a943573', 'nonce': 62, 'transactions_data': '15-06-202419:006unsoldorganiser15-06-202419:007unsoldorganiser15-06-202419:008unsoldorganiser15-06-202419:009unsoldorganiser15-06-202419:0010unsoldorganiser', 'hash': '001fd3619811453ad0060fb5f27f16c0c8e45a8d395d67a432b9cfe58725601d'}\n",
      "{'index': 9, 'timestamp': datetime.datetime(2024, 4, 21, 4, 20, 39, 101758), 'transactions': [{'data': {'date': '15-06-2024', 'time': '19:00', 'seat_number': '11', 'status': 'unsold', 'ownership': 'organiser', 'ID': '15-06-202419:0011'}, 'type': 'create_ticket', 'hmac': 'bacfba6a210515fdb10503de2498d831abd8e1eb837d13ddddb614686f329728', 'buy/sell': 'None'}, {'data': {'date': '15-06-2024', 'time': '19:00', 'seat_number': '12', 'status': 'unsold', 'ownership': 'organiser', 'ID': '15-06-202419:0012'}, 'type': 'create_ticket', 'hmac': '1cebcb7b08fa684b1a169f2b745f7ba276828bcd660878dd3026804312951d09', 'buy/sell': 'None'}, {'data': {'date': '15-06-2024', 'time': '19:00', 'seat_number': '13', 'status': 'unsold', 'ownership': 'organiser', 'ID': '15-06-202419:0013'}, 'type': 'create_ticket', 'hmac': '2728ba6bef47aa3f27b5096c4e7e03d2bf97b2b247989e63c05c43cc32116128', 'buy/sell': 'None'}, {'data': {'date': '15-06-2024', 'time': '19:00', 'seat_number': '14', 'status': 'unsold', 'ownership': 'organiser', 'ID': '15-06-202419:0014'}, 'type': 'create_ticket', 'hmac': '28875fc7c5cb32dcf272f1ef8ee4b34c21751e5cb693cfe2a5ae360a04bcc121', 'buy/sell': 'None'}, {'data': {'date': '15-06-2024', 'time': '19:00', 'seat_number': '15', 'status': 'unsold', 'ownership': 'organiser', 'ID': '15-06-202419:0015'}, 'type': 'create_ticket', 'hmac': '83b5a32c7bd2c117b6d4a39a940faa69bffb1de987dd8b34dc78833d5f135773', 'buy/sell': 'None'}], 'previous_hash': '001fd3619811453ad0060fb5f27f16c0c8e45a8d395d67a432b9cfe58725601d', 'nonce': 46, 'transactions_data': '15-06-202419:0011unsoldorganiser15-06-202419:0012unsoldorganiser15-06-202419:0013unsoldorganiser15-06-202419:0014unsoldorganiser15-06-202419:0015unsoldorganiser', 'hash': '00c90b1a6261c5db401d2a7c77ef96e5237e3114d9b8152b1ad7f58a7918e9ae'}\n",
      "{'index': 10, 'timestamp': datetime.datetime(2024, 4, 21, 4, 20, 39, 104616), 'transactions': [{'data': {'date': '15-06-2024', 'time': '19:00', 'seat_number': '16', 'status': 'unsold', 'ownership': 'organiser', 'ID': '15-06-202419:0016'}, 'type': 'create_ticket', 'hmac': '513493fabdfd5555c5d7c1376050bdc8de2d4ef9b69cbac2d0939cf0c894967d', 'buy/sell': 'None'}, {'data': {'date': '15-06-2024', 'time': '19:00', 'seat_number': '17', 'status': 'unsold', 'ownership': 'organiser', 'ID': '15-06-202419:0017'}, 'type': 'create_ticket', 'hmac': '4aa0d327304eb34e13edba96fce3e260bbe1e2ae269e3c44c7dc72a9fed45be0', 'buy/sell': 'None'}, {'data': {'date': '15-06-2024', 'time': '19:00', 'seat_number': '18', 'status': 'unsold', 'ownership': 'organiser', 'ID': '15-06-202419:0018'}, 'type': 'create_ticket', 'hmac': 'c81e2bd1d47cc1ef1d566c8e0e0c55c43726b71985a70bcc0f353aa5140c155d', 'buy/sell': 'None'}, {'data': {'date': '15-06-2024', 'time': '19:00', 'seat_number': '19', 'status': 'unsold', 'ownership': 'organiser', 'ID': '15-06-202419:0019'}, 'type': 'create_ticket', 'hmac': 'c31e9d1df443478e46f982333d19c8ee1c42b863306011731dadc570dbbf8f80', 'buy/sell': 'None'}, {'data': {'date': '15-06-2024', 'time': '19:00', 'seat_number': '20', 'status': 'unsold', 'ownership': 'organiser', 'ID': '15-06-202419:0020'}, 'type': 'create_ticket', 'hmac': 'f23156db9d31e8dcf8f801716f26ca5894abeb97ca0343773a438d39c2b8d5df', 'buy/sell': 'None'}], 'previous_hash': '00c90b1a6261c5db401d2a7c77ef96e5237e3114d9b8152b1ad7f58a7918e9ae', 'nonce': 8, 'transactions_data': '15-06-202419:0016unsoldorganiser15-06-202419:0017unsoldorganiser15-06-202419:0018unsoldorganiser15-06-202419:0019unsoldorganiser15-06-202419:0020unsoldorganiser', 'hash': '00139f92b38ea62d7a2d3c96f042f54f67fab7a98814df0b07555616845cbfbd'}\n",
      "{'index': 11, 'timestamp': datetime.datetime(2024, 4, 21, 4, 20, 39, 105625), 'transactions': [{'data': {'date': '15-06-2024', 'time': '19:00', 'seat_number': '21', 'status': 'unsold', 'ownership': 'organiser', 'ID': '15-06-202419:0021'}, 'type': 'create_ticket', 'hmac': 'd369d290a50b1f4e558a44059ed16efafa0f2d0b1acedf546bd6e4ef87e676f6', 'buy/sell': 'None'}, {'data': {'date': '15-06-2024', 'time': '19:00', 'seat_number': '22', 'status': 'unsold', 'ownership': 'organiser', 'ID': '15-06-202419:0022'}, 'type': 'create_ticket', 'hmac': 'd60d59e446a9ec448ebf8de68b4dc3fc1353b9e64514cdca93a50c81aff00c7b', 'buy/sell': 'None'}, {'data': {'date': '15-06-2024', 'time': '19:00', 'seat_number': '23', 'status': 'unsold', 'ownership': 'organiser', 'ID': '15-06-202419:0023'}, 'type': 'create_ticket', 'hmac': '32dee2329888ec72e7689bee8abd2c04e94b41db16f65e62eb852cda28f613e6', 'buy/sell': 'None'}, {'data': {'date': '15-06-2024', 'time': '19:00', 'seat_number': '24', 'status': 'unsold', 'ownership': 'organiser', 'ID': '15-06-202419:0024'}, 'type': 'create_ticket', 'hmac': '7b753dcb21a6440759d8880f46f33c961189dec2c7795d2f03b763fb548a8691', 'buy/sell': 'None'}, {'data': {'date': '15-06-2024', 'time': '19:00', 'seat_number': '25', 'status': 'unsold', 'ownership': 'organiser', 'ID': '15-06-202419:0025'}, 'type': 'create_ticket', 'hmac': 'c07d2905218c1e69d0939abdeca4afbf634b9c474485b7deb37a7ccc4fb46984', 'buy/sell': 'None'}], 'previous_hash': '00139f92b38ea62d7a2d3c96f042f54f67fab7a98814df0b07555616845cbfbd', 'nonce': 14, 'transactions_data': '15-06-202419:0021unsoldorganiser15-06-202419:0022unsoldorganiser15-06-202419:0023unsoldorganiser15-06-202419:0024unsoldorganiser15-06-202419:0025unsoldorganiser', 'hash': '003bb0e40cef00712a5bce9c780148cc22bc7b2f9433c609db9709fe12ebfb28'}\n",
      "{'index': 12, 'timestamp': datetime.datetime(2024, 4, 21, 4, 20, 39, 106814), 'transactions': [{'data': {'date': '15-06-2024', 'time': '19:00', 'seat_number': '26', 'status': 'unsold', 'ownership': 'organiser', 'ID': '15-06-202419:0026'}, 'type': 'create_ticket', 'hmac': '6e2415fe5bc26fad1e3380e8ef030302971c6530d105dd5808cbfafbd3cb73c4', 'buy/sell': 'None'}, {'data': {'date': '15-06-2024', 'time': '19:00', 'seat_number': '27', 'status': 'unsold', 'ownership': 'organiser', 'ID': '15-06-202419:0027'}, 'type': 'create_ticket', 'hmac': '2aba934b475493065206eaf0af20aaed9c5e7336a895b36266c1a86e457ddbd0', 'buy/sell': 'None'}, {'data': {'date': '15-06-2024', 'time': '19:00', 'seat_number': '28', 'status': 'unsold', 'ownership': 'organiser', 'ID': '15-06-202419:0028'}, 'type': 'create_ticket', 'hmac': '13984bd137ca76518153cce24c5dd21010692165fee33b8564132ac6b7ae8542', 'buy/sell': 'None'}, {'data': {'date': '15-06-2024', 'time': '19:00', 'seat_number': '29', 'status': 'unsold', 'ownership': 'organiser', 'ID': '15-06-202419:0029'}, 'type': 'create_ticket', 'hmac': '71f56d0847eef27e00cb738713c86518d7316e84c9a9a99be7d02dc1319426c5', 'buy/sell': 'None'}, {'data': {'date': '15-06-2024', 'time': '19:00', 'seat_number': '30', 'status': 'unsold', 'ownership': 'organiser', 'ID': '15-06-202419:0030'}, 'type': 'create_ticket', 'hmac': '7479a7d224bfed8ca216d25c2327fc1f6ef6bc56392f6eefe5cecc1021b4a513', 'buy/sell': 'None'}], 'previous_hash': '003bb0e40cef00712a5bce9c780148cc22bc7b2f9433c609db9709fe12ebfb28', 'nonce': 74, 'transactions_data': '15-06-202419:0026unsoldorganiser15-06-202419:0027unsoldorganiser15-06-202419:0028unsoldorganiser15-06-202419:0029unsoldorganiser15-06-202419:0030unsoldorganiser', 'hash': '000868de8e3a5fdcbd34d9b91eb46f9c5cdb36f965a689c827c9533ae4204371'}\n"
     ]
    }
   ],
   "source": [
    "import hashlib\n",
    "import hmac\n",
    "import json\n",
    "import datetime as dt\n",
    "import time as time\n",
    "import secrets\n",
    "import string\n",
    "\n",
    "class Block:\n",
    "    # class for creating blocks\n",
    "\n",
    "    def __init__(self,index,timestamp,transactions,previous_hash,nonce=0):\n",
    "        self.index = index\n",
    "        self.timestamp = timestamp\n",
    "        self.transactions = transactions\n",
    "        self.previous_hash = previous_hash\n",
    "        self.nonce = nonce\n",
    "        self.transactions_data = \"\"\n",
    "        for tr in self.transactions:\n",
    "            i = tr[\"data\"]\n",
    "            self.transactions_data += i[\"ID\"] + i[\"status\"] + i[\"ownership\"] \n",
    "        self.hash = self.HashCalculator()\n",
    "    \n",
    "    def HashCalculator(self): \n",
    "    # function to create hashes for an input of data\n",
    "\n",
    "        transactions_info = str(self.index) + str(self.timestamp) + str(self.transactions_data) + self.previous_hash + str(self.nonce)\n",
    "        string_data = json.dumps(transactions_info, sort_keys=True).encode()\n",
    "        return hashlib.sha256(string_data).hexdigest() \n",
    "    \n",
    "class BlockChain:\n",
    "    # class for creating the blockchain\n",
    "\n",
    "    def __init__(self):\n",
    "\n",
    "        self.idx = 1 #indexing for added block\n",
    "        self.chain = [] #starting chain with genesis block\n",
    "        self.transactions_pool = [] #to store transactions yet to be included in the blockchain\n",
    "        self.ledger = []\n",
    "        self.last_block_time = time.time()\n",
    "        self.create_genesis_block()\n",
    "\n",
    "    def create_genesis_block(self):\n",
    "        #creating genesis block\n",
    "\n",
    "        genesis_block = Block(0,dt.datetime.now(),[{\"data\":{\"ID\": \"0\", \"status\": \"N/A\", \"ownership\": \"N/A\"},\\\n",
    "                                                    \"type\":\"genesis_creation\"}],\"0\",0) \n",
    "        self.chain.append(genesis_block)\n",
    "\n",
    "    def create_transaction(self,data,type,hmac,buy_or_sell):\n",
    "        #function to create a transaction\n",
    "\n",
    "        return {\"data\": data, \"type\": type, \"hmac\": hmac, \"buy/sell\": buy_or_sell}\n",
    "\n",
    "    def verifyTransaction(self,transaction,secret_key):\n",
    "        #HMAC Verification for the transaction\n",
    "\n",
    "        transaction_data = json.dumps(transaction[\"data\"],sort_keys=True)\n",
    "        recalculate_hmac = generate_HMAC(transaction_data,secret_key)\n",
    "\n",
    "        if recalculate_hmac == transaction['hmac']:\n",
    "            return True\n",
    "        else:\n",
    "            return False\n",
    "        \n",
    "    def check_create_block_criteria(self):\n",
    "        #function to check if a block must be created\n",
    "\n",
    "        if len(self.transactions_pool) >= 5 or (time.time() - self.last_block_time) >= 600:\n",
    "            block = self.createBlock(dt.datetime.now(),self.transactions_pool)\n",
    "            self.mineBlock(block)\n",
    "            bool_accept = self.accept_or_reject_block(block)\n",
    "\n",
    "            if bool_accept:\n",
    "                self.transactions_pool = [] #resetting transaction pool\n",
    "                self.last_block_time = time.time()\n",
    "        \n",
    "    def add_transaction(self,transaction,secret_key):\n",
    "        #function to add a new transaction to unconfirmed transactions\n",
    "\n",
    "        if self.verifyTransaction(transaction,secret_key):\n",
    "            self.transactions_pool.append(transaction)\n",
    "            self.ledger.append(transaction)\n",
    "        \n",
    "        if self.transactions_pool:\n",
    "            self.check_create_block_criteria()\n",
    "        \n",
    "    def createBlock(self,timestamp,transactions):\n",
    "        #function to create a block\n",
    "\n",
    "        prev_hash = self.previous_block.hash \n",
    "        block = Block(self.idx,timestamp,transactions,prev_hash,nonce=0)\n",
    "        return block  \n",
    "\n",
    "    def mineBlock(self,block):\n",
    "        #Proof of Work algorithm \n",
    "\n",
    "        block.nonce = 0\n",
    "        hash = block.HashCalculator()\n",
    "        while not hash.startswith('00'):\n",
    "            block.nonce += 1\n",
    "            hash = block.HashCalculator()\n",
    "        return hash\n",
    "\n",
    "    def validate_ProofOfWork(self,block):\n",
    "        #Validation for the Proof of Work - A Consensus mechanism to check for eligibility \n",
    "        #to add the proposed block\n",
    "\n",
    "        block.hash = self.mineBlock(block)\n",
    "        return (block.hash.startswith('00') and block.previous_hash == self.chain[-1].hash)\n",
    "    \n",
    "    def accept_or_reject_block(self,block):\n",
    "        #Accepting or rejecting blocks according to validation \n",
    "\n",
    "        if self.validate_ProofOfWork(block):\n",
    "            self.chain.append(block)\n",
    "            self.idx += 1 #updating index for next block  \n",
    "            return True #to indicate block has been accepted\n",
    "        \n",
    "        return False\n",
    "    \n",
    "    @property\n",
    "    def previous_block(self):\n",
    "        return self.chain[-1]\n",
    "    \n",
    "def generate_HMAC(message,secret_key):\n",
    "    return hmac.new(secret_key.encode(),message.encode(),hashlib.sha256).hexdigest()\n",
    "\n",
    "#maintaining a user secret key database\n",
    "user_key_database = {}\n",
    "\n",
    "def generate_secret_key():\n",
    "    #generating secret key for a user account\n",
    "\n",
    "    length = 10\n",
    "    options = string.ascii_letters + string.digits\n",
    "    generated_key = ''.join(secrets.choice(options) for i in range(length))\n",
    "\n",
    "    if generated_key not in user_key_database.values():\n",
    "        return generated_key\n",
    "    else:\n",
    "        generate_secret_key()\n",
    "\n",
    "user_key_database[\"organiser\"] = generate_secret_key()\n",
    "organiser_secret_key = user_key_database[\"organiser\"]\n",
    "\n",
    "blockchain = BlockChain()\n",
    "\n",
    "\n",
    "''' CREATING TICKETS IN THE BLOCKCHAIN'''\n",
    "\n",
    "def create_ticket(date,time,seat_no,secret_key):\n",
    "    #function to create a ticket\n",
    "\n",
    "    ticket_ID = date + time + seat_no \n",
    "    status = \"unsold\"\n",
    "    ownership = \"organiser\"\n",
    "    ticket_info = {\n",
    "        \"date\": date,\n",
    "        \"time\": time,\n",
    "        \"seat_number\": seat_no,\n",
    "        \"status\": status,\n",
    "        \"ownership\": ownership,\n",
    "        \"ID\": ticket_ID\n",
    "    }\n",
    "\n",
    "    data_for_hmac = json.dumps(ticket_info,sort_keys=True)\n",
    "    code_hmac = generate_HMAC(data_for_hmac,secret_key)\n",
    "    transaction_create_ticket = blockchain.create_transaction(ticket_info,\"create_ticket\",code_hmac,\"None\")\n",
    "\n",
    "    blockchain.add_transaction(transaction_create_ticket,secret_key)\n",
    "\n",
    "\n",
    "no_of_tickets_per_day = int(input(\"Enter number of tickets per day to be sold: \"))\n",
    "no_of_days = int(input(\"Enter number of days of event\"))\n",
    "total_no_of_tickets = no_of_tickets_per_day * no_of_days\n",
    "# event_directory = {} \n",
    "for day_no in range(1, no_of_days+1):\n",
    "    date = input(f\"enter date for day {day_no} (Enter in DD-MM-YYYY format)\")\n",
    "    time_ = input(f\"enter time for day {day_no} (Enter in 24-hr HH:MM format)\")\n",
    "\n",
    "    for i in range(1, no_of_tickets_per_day+1):\n",
    "        seat_number = str(i)\n",
    "        create_ticket(date,time_,seat_number,organiser_secret_key)\n",
    "\n",
    "\n",
    "print(\"Number of Blocks created\",blockchain.idx)\n",
    "for i in blockchain.chain:\n",
    "    print(i.__dict__)\n",
    "        "
   ]
  },
  {
   "cell_type": "code",
   "execution_count": 27,
   "metadata": {},
   "outputs": [],
   "source": [
    "'''CREATING USER ACCOUNTS'''\n",
    "\n",
    "def get_userID(name,gender,age):\n",
    "    #function to generate the user ID for the user\n",
    "    \n",
    "    user_ID = name + gender + age\n",
    "\n",
    "    if user_ID not in user_key_database:\n",
    "        return user_ID\n",
    "    print(\"User Exists\")\n",
    "    raise KeyError\n",
    "\n",
    "def create_user_account():\n",
    "    #function to create a user account with his details\n",
    "\n",
    "    name = input(\"Enter name\")\n",
    "    gender = input(\"Enter gender\")\n",
    "    age = input(\"Enter age\")\n",
    "    UserID = get_userID(name, gender, age)\n",
    "    secretKey = generate_secret_key()\n",
    "    user_key_database[UserID] = secretKey\n",
    "\n",
    "    return UserID, secretKey\n",
    "\n",
    "def ticket_status_check(ticket_id,blkchn,status,ownership):\n",
    "    #function to check if the queried ticket is available for sale \n",
    "\n",
    "    for i in reversed(blkchn.ledger):\n",
    "        k = i[\"data\"]\n",
    "        if ticket_id == k[\"ID\"]:\n",
    "            #check status\n",
    "            if k[\"status\"] == status and k[\"ownership\"] == ownership:\n",
    "                return True,k\n",
    "            return False,0\n",
    "            \n",
    "\n",
    "'''PURCHASE TICKETS'''\n",
    "\n",
    "def purchase_ticket(user_id):\n",
    "    #function to implement the ticket purchase from organiser process\n",
    "\n",
    "    date = input(\"Which date is the event? (Enter in DD-MM-YYYY format)\")\n",
    "    time = input(\"What time is the event? (Enter in 24-hr HH:MM format)\")\n",
    "    seat_no = input(\"What seat number do you want?\")\n",
    "    \n",
    "    ticket_id = date + time + seat_no\n",
    "    available, ticket_inf = ticket_status_check(ticket_id,blockchain,\"unsold\",\"organiser\")\n",
    "\n",
    "    if available:\n",
    "        ticket_inf[\"status\"] = \"sold\"\n",
    "        ticket_inf[\"ownership\"] = user_id\n",
    "        secretkey = user_key_database[user_id]\n",
    "        data_for_hmac_p = json.dumps(ticket_inf,sort_keys=True)\n",
    "        code_hmac_p = generate_HMAC(data_for_hmac_p,secretkey)\n",
    "        transaction_purchase = blockchain.create_transaction(ticket_inf,\"purchase_ticket\",code_hmac_p,user_id)\n",
    "        blockchain.add_transaction(transaction_purchase,secretkey)\n",
    "\n",
    "\n",
    "'''SELL TICKETS'''\n",
    "\n",
    "def sell_ticket(user_id,ticket_id):\n",
    "    #function to implement the ticket sale to organiser process\n",
    "    \n",
    "    valid_owner, ticket_inf = ticket_status_check(ticket_id,blockchain,\"sold\",user_id)\n",
    "\n",
    "    if valid_owner:\n",
    "        ticket_inf[\"status\"] = \"unsold\"\n",
    "        ticket_inf[\"ownership\"] = \"organiser\"\n",
    "        secretkey = user_key_database[user_id]\n",
    "        data_for_hmac_s = json.dumps(ticket_inf,sort_keys=True)\n",
    "        code_hmac_s = generate_HMAC(data_for_hmac_s,secretkey)\n",
    "        transaction_sell = blockchain.create_transaction(ticket_inf,\"sell_ticket\",code_hmac_s,user_id)\n",
    "        blockchain.add_transaction(transaction_sell,secretkey)\n",
    "\n",
    "\n",
    "'''VERIFY USER'S TICKET AT ENTRY'''\n",
    "\n",
    "def verify_user_ticket(user_id,ticket_id):\n",
    "    #function to verify user's ticket at entry\n",
    "\n",
    "    valid_owner, ticket_inf = ticket_status_check(ticket_id,blockchain,\"sold\",user_id)\n",
    "\n",
    "    return valid_owner"
   ]
  },
  {
   "cell_type": "code",
   "execution_count": 12,
   "metadata": {},
   "outputs": [
    {
     "name": "stdout",
     "output_type": "stream",
     "text": [
      "{'data': {'date': '15-06-2024', 'time': '19:00', 'seat_number': '19', 'status': 'sold', 'ownership': 'AFemale27', 'ID': '15-06-202419:0019'}, 'type': 'purchase_ticket', 'hmac': 'e6cbe564396c56b3c00d593a0336309550deeab429950c48672e9dc252b4c3a7', 'buy/sell': 'AFemale27'}\n"
     ]
    }
   ],
   "source": [
    "# Person A - Create and Purchase\n",
    "id, key = create_user_account()\n",
    "purchase_ticket(id)\n",
    "print(blockchain.ledger[-1])\n"
   ]
  },
  {
   "cell_type": "markdown",
   "metadata": {},
   "source": [
    "#### Transaction for the purchase:\n",
    "{'data': {'date': '15-06-2024', 'time': '19:00', 'seat_number': '19', 'status': 'sold', 'ownership': 'AFemale27', 'ID': '15-06-202419:0019'}, 'type': 'purchase_ticket', 'hmac': 'e6cbe564396c56b3c00d593a0336309550deeab429950c48672e9dc252b4c3a7', 'buy/sell': 'AFemale27'}"
   ]
  },
  {
   "cell_type": "code",
   "execution_count": 28,
   "metadata": {},
   "outputs": [
    {
     "name": "stdout",
     "output_type": "stream",
     "text": [
      "{'data': {'date': '15-06-2024', 'time': '19:00', 'seat_number': '19', 'status': 'unsold', 'ownership': 'organiser', 'ID': '15-06-202419:0019'}, 'type': 'sell_ticket', 'hmac': 'c7070112f662b9c5332e90fb00bdc824ba87b9a6c12ac26edeb8a7966cbca6be', 'buy/sell': 'AFemale27'}\n"
     ]
    }
   ],
   "source": [
    "# Person A - Sell\n",
    "id = \"AFemale27\"\n",
    "ticket = \"15-06-202419:0019\"\n",
    "sell_ticket(id,ticket)\n",
    "\n",
    "print(blockchain.ledger[-1])"
   ]
  },
  {
   "cell_type": "markdown",
   "metadata": {},
   "source": [
    "#### Transaction for the sale:\n",
    "{'data': {'date': '15-06-2024', 'time': '19:00', 'seat_number': '19', 'status': 'unsold', 'ownership': 'organiser', 'ID': '15-06-202419:0019'}, 'type': 'sell_ticket', 'hmac': 'c7070112f662b9c5332e90fb00bdc824ba87b9a6c12ac26edeb8a7966cbca6be', 'buy/sell': 'AFemale27'}"
   ]
  },
  {
   "cell_type": "code",
   "execution_count": 29,
   "metadata": {},
   "outputs": [
    {
     "name": "stdout",
     "output_type": "stream",
     "text": [
      "{'data': {'date': '15-06-2024', 'time': '19:00', 'seat_number': '19', 'status': 'sold', 'ownership': 'BMale56', 'ID': '15-06-202419:0019'}, 'type': 'purchase_ticket', 'hmac': 'a0d17d0039fad581162d823c7228b5533ad66cb14fa209b433a0607ead87d9dd', 'buy/sell': 'BMale56'}\n"
     ]
    }
   ],
   "source": [
    "# Person B - Create and Purchase the resold ticket\n",
    "id, key = create_user_account()\n",
    "purchase_ticket(id)\n",
    "print(blockchain.ledger[-1])"
   ]
  },
  {
   "cell_type": "markdown",
   "metadata": {},
   "source": [
    "#### Transaction for the repurchase of the same ticket:\n",
    "{'data': {'date': '15-06-2024', 'time': '19:00', 'seat_number': '19', 'status': 'sold', 'ownership': 'BMale56', 'ID': '15-06-202419:0019'}, 'type': 'purchase_ticket', 'hmac': 'a0d17d0039fad581162d823c7228b5533ad66cb14fa209b433a0607ead87d9dd', 'buy/sell': 'BMale56'}"
   ]
  },
  {
   "cell_type": "code",
   "execution_count": 30,
   "metadata": {},
   "outputs": [],
   "source": [
    "'''Viewing list of transactions for a user'''\n",
    "\n",
    "def viewUser(blkchn,userid):\n",
    "    for i in blkchn.ledger:\n",
    "        if i[\"buy/sell\"] == userid:\n",
    "            print(i)"
   ]
  },
  {
   "cell_type": "code",
   "execution_count": 31,
   "metadata": {},
   "outputs": [
    {
     "name": "stdout",
     "output_type": "stream",
     "text": [
      "{'data': {'date': '15-06-2024', 'time': '19:00', 'seat_number': '19', 'status': 'sold', 'ownership': 'BMale56', 'ID': '15-06-202419:0019'}, 'type': 'purchase_ticket', 'hmac': 'e6cbe564396c56b3c00d593a0336309550deeab429950c48672e9dc252b4c3a7', 'buy/sell': 'AFemale27'}\n",
      "{'data': {'date': '15-06-2024', 'time': '19:00', 'seat_number': '19', 'status': 'sold', 'ownership': 'BMale56', 'ID': '15-06-202419:0019'}, 'type': 'sell_ticket', 'hmac': 'c7070112f662b9c5332e90fb00bdc824ba87b9a6c12ac26edeb8a7966cbca6be', 'buy/sell': 'AFemale27'}\n",
      "{'data': {'date': '15-06-2024', 'time': '19:00', 'seat_number': '19', 'status': 'sold', 'ownership': 'BMale56', 'ID': '15-06-202419:0019'}, 'type': 'purchase_ticket', 'hmac': 'a0d17d0039fad581162d823c7228b5533ad66cb14fa209b433a0607ead87d9dd', 'buy/sell': 'BMale56'}\n"
     ]
    }
   ],
   "source": [
    "# Printing person A transactions\n",
    "viewUser(blockchain,\"AFemale27\")\n",
    "\n",
    "# Printing person B transactions\n",
    "viewUser(blockchain,\"BMale56\")"
   ]
  },
  {
   "cell_type": "markdown",
   "metadata": {},
   "source": [
    "#### Output:\n",
    "{'data': {'date': '15-06-2024', 'time': '19:00', 'seat_number': '19', 'status': 'sold', 'ownership': 'BMale56', 'ID': '15-06-202419:0019'}, 'type': 'purchase_ticket', 'hmac': 'e6cbe564396c56b3c00d593a0336309550deeab429950c48672e9dc252b4c3a7', 'buy/sell': 'AFemale27'}\\\n",
    "{'data': {'date': '15-06-2024', 'time': '19:00', 'seat_number': '19', 'status': 'sold', 'ownership': 'BMale56', 'ID': '15-06-202419:0019'}, 'type': 'sell_ticket', 'hmac': 'c7070112f662b9c5332e90fb00bdc824ba87b9a6c12ac26edeb8a7966cbca6be', 'buy/sell': 'AFemale27'}\\\n",
    "{'data': {'date': '15-06-2024', 'time': '19:00', 'seat_number': '19', 'status': 'sold', 'ownership': 'BMale56', 'ID': '15-06-202419:0019'}, 'type': 'purchase_ticket', 'hmac': 'a0d17d0039fad581162d823c7228b5533ad66cb14fa209b433a0607ead87d9dd', 'buy/sell': 'BMale56'}\n",
    "##### First two are of user AFemale27\n",
    "##### Third is of user BMale56\n"
   ]
  },
  {
   "cell_type": "markdown",
   "metadata": {},
   "source": [
    "Error : once ownership changed, it is being changed in all transanction data."
   ]
  }
 ],
 "metadata": {
  "kernelspec": {
   "display_name": "Python 3",
   "language": "python",
   "name": "python3"
  },
  "language_info": {
   "codemirror_mode": {
    "name": "ipython",
    "version": 3
   },
   "file_extension": ".py",
   "mimetype": "text/x-python",
   "name": "python",
   "nbconvert_exporter": "python",
   "pygments_lexer": "ipython3",
   "version": "3.8.10"
  }
 },
 "nbformat": 4,
 "nbformat_minor": 2
}

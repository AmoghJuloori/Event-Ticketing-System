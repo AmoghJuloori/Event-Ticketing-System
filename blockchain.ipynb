{
 "cells": [
  {
   "cell_type": "markdown",
   "metadata": {},
   "source": [
    "# Working on Blockchain creation"
   ]
  },
  {
   "cell_type": "code",
   "execution_count": null,
   "metadata": {},
   "outputs": [
    {
     "name": "stdout",
     "output_type": "stream",
     "text": [
      "{'data': 'Genesis_data', 'hash': 'a929000aca4fd53572c5fb06a727f3b059a8c08e984b1d6c97c5c785bea1ef4a', 'previous_hash': 'eecfecc5143fc244a3088278d25866f8ef21468b8dee790f244b9e56c5cb3193'}\n",
      "{'data': 'A', 'hash': 'c96aa98920a81b86d716ebd411567d9d9fb5107549b6ae6ae6dce9dbd2572e80', 'previous_hash': 'a929000aca4fd53572c5fb06a727f3b059a8c08e984b1d6c97c5c785bea1ef4a'}\n",
      "{'data': 'B', 'hash': 'e35dfad88edafd0a376b16b9f14134e5a2e81c77809510a324c344e125b7385b', 'previous_hash': 'c96aa98920a81b86d716ebd411567d9d9fb5107549b6ae6ae6dce9dbd2572e80'}\n",
      "{'data': 'C', 'hash': '1158c59264f383c4954e964c2ae2e5b71ebc68d568599b852aa3ba7a155121d5', 'previous_hash': 'e35dfad88edafd0a376b16b9f14134e5a2e81c77809510a324c344e125b7385b'}\n"
     ]
    }
   ],
   "source": [
    "import hashlib \n",
    "\n",
    "def HashGenerator(data): \n",
    "    # function to create hashes for an input of data\n",
    "\n",
    "    hashing = hashlib.sha256(data.encode())\n",
    "    return hashing.hexdigest() # changing hash to hexadecimal\n",
    "\n",
    "class Block:\n",
    "    # class for creating blocks\n",
    "\n",
    "    def __init__(self,data,hash,previous_hash):\n",
    "        self.data = data\n",
    "        self.hash = hash\n",
    "        self.previous_hash = previous_hash\n",
    "\n",
    "class BlockChain:\n",
    "    # class for creating the blockchain\n",
    "\n",
    "    def __init__(self):\n",
    "        hash_prev_to_genesis = HashGenerator('before_genesis') #creating hash to be used as the previous hash for genesis block creation\n",
    "        hash_for_genesis = HashGenerator('for_genesis') #creating hash to be used as the current hash for genesis block creation\n",
    "\n",
    "        genesis_block = Block('Genesis_data',hash_for_genesis,hash_prev_to_genesis) #creating genesis block\n",
    "\n",
    "        self.chain = [genesis_block] #starting chain with genesis block \n",
    "\n",
    "    def add_block(self,data):\n",
    "        # function to add blocks to the chain\n",
    "\n",
    "        prev_hash = self.chain[-1].hash \n",
    "        current_hash = HashGenerator(data+prev_hash) #using data+prev_hash as input to improve uniqueness\n",
    "\n",
    "        block = Block(data,current_hash,prev_hash)\n",
    "\n",
    "        self.chain.append(block) #adding block to the chain\n",
    "\n",
    "blockchain = BlockChain()\n",
    "blockchain.add_block('A')\n",
    "blockchain.add_block('B')\n",
    "blockchain.add_block('C')\n",
    "\n",
    "for i in blockchain.chain:\n",
    "    print(i.__dict__)"
   ]
  },
  {
   "cell_type": "markdown",
   "metadata": {},
   "source": [
    "# STAGE 3 EVALUATION:\n",
    "1. You are free to code in any language but your solution must implement the following methods:\n",
    " -- createBlock()\n",
    " -- verifyTransaction()\n",
    " -- mineBlock() or something equivalent for proof of work\n",
    " -- viewUser()\n",
    "2. All transactions must be verified before they can be added to a block. As part of the verification\n",
    "process, you are required to use HMAC (as described in section 2.2) to verify at least one\n",
    "attribute.\n",
    "3. viewUser() should list all (successful) transactions against the user.\n",
    "4. For your final submission, submit your source code & readme as a single .zip or .tar file in the\n",
    "final submission link given below. Please name your file as bitsf463_team99 (assuming your team\n",
    "number is 99. You can find your team number from the google sheet you filled earlier). The\n",
    "readme should contain a brief explanation of the project, steps to run the code, and the list of\n",
    "team members. The deadline for the same will be 11:59 PM 17th April 2024. The exact date and\n",
    "demo schedule will be intimated later. From a team, only one team member needs to do the\n",
    "submission."
   ]
  },
  {
   "cell_type": "markdown",
   "metadata": {},
   "source": [
    "https://medium.com/pythoneers/building-a-blockchain-from-scratch-with-python-489e7116142e"
   ]
  }
 ],
 "metadata": {
  "kernelspec": {
   "display_name": "Python 3",
   "language": "python",
   "name": "python3"
  },
  "language_info": {
   "codemirror_mode": {
    "name": "ipython",
    "version": 3
   },
   "file_extension": ".py",
   "mimetype": "text/x-python",
   "name": "python",
   "nbconvert_exporter": "python",
   "pygments_lexer": "ipython3",
   "version": "3.8.10"
  }
 },
 "nbformat": 4,
 "nbformat_minor": 2
}
